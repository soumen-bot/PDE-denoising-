{
 "cells": [
  {
   "cell_type": "code",
   "execution_count": 2,
   "id": "f00525c8",
   "metadata": {},
   "outputs": [
    {
     "name": "stdout",
     "output_type": "stream",
     "text": [
      "PSNR: 28.967068062626275\n"
     ]
    }
   ],
   "source": [
    "import cv2\n",
    "import numpy as np\n",
    "\n",
    "def calculate_psnr(denoised_image, original_image):\n",
    "    # Read the images\n",
    "    denoised_img = cv2.imread(denoised_image)\n",
    "    original_img = cv2.imread(original_image)\n",
    "\n",
    "    # Calculate MSE (Mean Squared Error)\n",
    "    mse = np.mean((denoised_img - original_img) ** 2)\n",
    "\n",
    "    # Calculate the maximum pixel value of the images\n",
    "    max_pixel = 255.0\n",
    "\n",
    "    # Calculate PSNR using the formula\n",
    "    psnr = 20 * np.log10(max_pixel / np.sqrt(mse))\n",
    "\n",
    "    return psnr\n",
    "    \n",
    "denoised_image_path = \"denoised_peronaMalik_test2.jpg\"\n",
    "original_image_path = \"cameraman.jpg\"\n",
    "\n",
    "psnr_value = calculate_psnr(denoised_image_path, original_image_path)\n",
    "print(\"PSNR:\", psnr_value)"
   ]
  }
 ],
 "metadata": {
  "kernelspec": {
   "display_name": "Python 3 (ipykernel)",
   "language": "python",
   "name": "python3"
  },
  "language_info": {
   "codemirror_mode": {
    "name": "ipython",
    "version": 3
   },
   "file_extension": ".py",
   "mimetype": "text/x-python",
   "name": "python",
   "nbconvert_exporter": "python",
   "pygments_lexer": "ipython3",
   "version": "3.9.13"
  }
 },
 "nbformat": 4,
 "nbformat_minor": 5
}
